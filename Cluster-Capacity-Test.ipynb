{
 "cells": [
  {
   "cell_type": "code",
   "execution_count": 1,
   "metadata": {},
   "outputs": [],
   "source": [
    "import os\n",
    "from pyspark import SparkContext\n",
    "from pyspark import SparkConf\n",
    "from pyspark import SQLContext\n",
    "import pyspark"
   ]
  },
  {
   "cell_type": "code",
   "execution_count": 2,
   "metadata": {},
   "outputs": [],
   "source": [
    "num_nodes = 10 # one of the nodes is reserved for master, thus cluster 11 have 10 available nodes\n",
    "total_vcores = 120 # get it from SparkUI\n",
    "total_memory = 520 # get it from SparkUI, in GB\n",
    "num_executor_per_node = 4 # set this manually, number of concurrent jobs on a single node\n",
    "\n",
    "num_vcores_per_node = total_vcores/num_nodes\n",
    "memory_per_node = total_memory/num_nodes\n",
    "total_executors = num_nodes*num_executor_per_node"
   ]
  },
  {
   "cell_type": "code",
   "execution_count": 3,
   "metadata": {},
   "outputs": [],
   "source": [
    "memory_percent_required = 0.3 # ranges from [0-1]\n",
    "vcores_percent_required = 0.4 # ranges from [0-1]"
   ]
  },
  {
   "cell_type": "code",
   "execution_count": 4,
   "metadata": {},
   "outputs": [
    {
     "name": "stdout",
     "output_type": "stream",
     "text": [
      "spark.executor.cores 2\n",
      "spark.executor.instances 48\n",
      "spark.executor.memory (MB) 2954\n",
      "spark.yarn.executor.memoryOverhead (MB) 295\n",
      "spark.default.parallelism 384\n"
     ]
    }
   ],
   "source": [
    "spark_executor_cores = 2 # number of vcores for each executor\n",
    "spark_executor_instances = int(vcores_percent_required*total_vcores) # instance are translated to vcores on SparkUI\n",
    "#spark.executor.memory + spark.yarn.executor.memoryOverhead = memory per node / number of executors per node\n",
    "#spark_executor_memory = int(memory_percent_required * 1000*(memory_per_node/num_executor_per_node)/1.10)\n",
    "spark_executor_memory = int(1000*((memory_percent_required * total_memory)/(spark_executor_instances))/1.10)\n",
    "spark_yarn_executor_memoryOverhead = int(spark_executor_memory * 0.10)\n",
    "spark_default_parallelism = 4 * spark_executor_instances * spark_executor_cores\n",
    "print('spark.executor.cores', spark_executor_cores)\n",
    "print('spark.executor.instances', spark_executor_instances)\n",
    "print('spark.executor.memory (MB)', spark_executor_memory)\n",
    "print('spark.yarn.executor.memoryOverhead (MB)', spark_yarn_executor_memoryOverhead)\n",
    "print('spark.default.parallelism', spark_default_parallelism)"
   ]
  },
  {
   "cell_type": "code",
   "execution_count": 5,
   "metadata": {},
   "outputs": [],
   "source": [
    "spark_cluster='hadoop-green11'\n",
    "os.environ['SPARK_HOME'] = \"/usr/hdp/3.1.4.0-315/spark2\"\n",
    "os.environ['PYTHONPATH'] = \"/usr/hdp/3.1.4.0-315/spark2/python/:$PYTHONPATH\"\n",
    "os.environ['PYTHONPATH'] = \"/usr/hdp/3.1.4.0-315/spark2/python/lib/py4j-0.10.7-src.zip:$PYTHONPATH\"\n",
    "os.environ['HDP_VERSION'] = \"3.1.4.0-315\"\n",
    "os.environ['JAVA_HOME'] = \"/usr/jdk64/jdk1.8.0_112/\"\n",
    "os.environ['PYSPARK_PYTHON'] = \"/u01/anaconda3/bin/python\"\n",
    "os.environ['HADOOP_CONF_DIR'] = \"/usr/hdp/3.1.4.0-315/hadoop-yarn/etc/{}\".format(spark_cluster)\n",
    "\n",
    "spark_conf = SparkConf().setAppName('Cluster-Capacity-Test').setAll([\n",
    "    ('spark.master', 'yarn'),\n",
    "    (\"spark.executor.cores\", spark_executor_cores),\n",
    "    (\"spark.executor.instances\", spark_executor_instances),\n",
    "    (\"spark.executor.memory\", '{}mb'.format(spark_executor_memory)),\n",
    "    (\"spark.yarn.executor.memoryOverhead\", '{}mb'.format(spark_yarn_executor_memoryOverhead)),\n",
    "    (\"spark.default.parallelism\", spark_default_parallelism),\n",
    "    #(\"spark.sql.shuffle.partitions\", 200),\n",
    "    #(\"spark.serializer\", \"org.apache.spark.serializer.KryoSerializer\"),\n",
    "    #('spark.shuffle.service.enabled', 'true'),\n",
    "    #(\"spark.driver.maxResultSize\", \"5G\"),\n",
    "    #(\"spark.sql.shuffle.partitions\", '12000'),\n",
    "    #(\"spark.reducer.maxReqsInFlight\", 1),\n",
    "    #(\"spark.shuffle.io.retryWait\", \"60s\"),\n",
    "    #(\"spark.shuffle.io.maxRetries\", 10),\n",
    "    #(\"spark.network.timeout\",\"240s\")\n",
    "])"
   ]
  },
  {
   "cell_type": "code",
   "execution_count": 6,
   "metadata": {},
   "outputs": [],
   "source": [
    "sc=SparkContext(conf=spark_conf)\n",
    "\n",
    "#start sqlcontext\n",
    "sqlContext = SQLContext(sc)"
   ]
  }
 ],
 "metadata": {
  "kernelspec": {
   "display_name": "Python 3",
   "language": "python",
   "name": "python3"
  },
  "language_info": {
   "codemirror_mode": {
    "name": "ipython",
    "version": 3
   },
   "file_extension": ".py",
   "mimetype": "text/x-python",
   "name": "python",
   "nbconvert_exporter": "python",
   "pygments_lexer": "ipython3",
   "version": "3.6.8"
  }
 },
 "nbformat": 4,
 "nbformat_minor": 2
}
